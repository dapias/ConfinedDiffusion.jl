{
 "cells": [
  {
   "cell_type": "code",
   "execution_count": 1,
   "metadata": {
    "collapsed": true
   },
   "outputs": [],
   "source": [
    "using PyPlot"
   ]
  },
  {
   "cell_type": "code",
   "execution_count": 2,
   "metadata": {
    "collapsed": false
   },
   "outputs": [
    {
     "data": {
      "text/plain": [
       "reflection (generic function with 1 method)"
      ]
     },
     "execution_count": 2,
     "metadata": {},
     "output_type": "execute_result"
    }
   ],
   "source": [
    "function reflection(nsteps, dt; D=5, x0 = 0.1)\n",
    "    pos = zeros(nsteps)\n",
    "    pos[1] = x0\n",
    "    for i in 2:nsteps\n",
    "        q = pos[i-1] + sqrt(2*D*dt)*randn()\n",
    "        if q < 0.0\n",
    "            pos[i] = -q\n",
    "        else\n",
    "            pos[i] = q\n",
    "        end\n",
    "    end\n",
    "    pos\n",
    "end\n",
    "        \n",
    "    "
   ]
  },
  {
   "cell_type": "code",
   "execution_count": 58,
   "metadata": {
    "collapsed": false
   },
   "outputs": [
    {
     "name": "stderr",
     "output_type": "stream",
     "text": [
      "WARNING: Method definition rejectionupdating(Any, Any) in module Main at In[3]:2 overwritten at In[58]:2.\n",
      "WARNING: Method definition #rejectionupdating(Array{Any, 1}, Main.#rejectionupdating, Any, Any) in module Main overwritten.\n"
     ]
    },
    {
     "data": {
      "text/plain": [
       "rejectionupdating (generic function with 1 method)"
      ]
     },
     "execution_count": 58,
     "metadata": {},
     "output_type": "execute_result"
    }
   ],
   "source": [
    "function rejectionupdating(nsteps, dt; D=1, x0 = 0.0)\n",
    "    pos = zeros(nsteps)\n",
    "    pos[1] = x0\n",
    "    for i in 2:nsteps\n",
    "        q = pos[i-1] + sqrt(2*D*dt)*randn()\n",
    "        if q < 0.0\n",
    "            pos[i] = pos[i-1]\n",
    "        else\n",
    "            pos[i] = q\n",
    "        end\n",
    "    end\n",
    "    pos\n",
    "end"
   ]
  },
  {
   "cell_type": "code",
   "execution_count": 59,
   "metadata": {
    "collapsed": false
   },
   "outputs": [
    {
     "name": "stderr",
     "output_type": "stream",
     "text": [
      "WARNING: Method definition rejectionwithoutupdating(Any, Any) in module Main at In[4]:2 overwritten at In[59]:2.\n",
      "WARNING: Method definition #rejectionwithoutupdating(Array{Any, 1}, Main.#rejectionwithoutupdating, Any, Any) in module Main overwritten.\n"
     ]
    },
    {
     "data": {
      "text/plain": [
       "rejectionwithoutupdating (generic function with 1 method)"
      ]
     },
     "execution_count": 59,
     "metadata": {},
     "output_type": "execute_result"
    }
   ],
   "source": [
    "function rejectionwithoutupdating(nsteps, dt; D=1, x0 = 0.0)\n",
    "    pos = zeros(nsteps)\n",
    "    pos[1] = x0\n",
    "    for i in 2:nsteps\n",
    "        q = pos[i-1] + sqrt(2*D*dt)*randn()\n",
    "        while q < 0.0\n",
    "            q = pos[i-1] + sqrt(2*D*dt)*randn()\n",
    "        end\n",
    "        pos[i] = q\n",
    "    end\n",
    "    pos\n",
    "end"
   ]
  },
  {
   "cell_type": "code",
   "execution_count": 7,
   "metadata": {
    "collapsed": false
   },
   "outputs": [
    {
     "data": {
      "text/plain": [
       "conc (generic function with 1 method)"
      ]
     },
     "execution_count": 7,
     "metadata": {},
     "output_type": "execute_result"
    }
   ],
   "source": [
    "function conc(nsteps, dt; D =1, x0 = 0.1)\n",
    "    t = (nsteps-1)*dt\n",
    "    C(x) = 1/(4*pi*D*t)^(1/2)*(exp(-(x-x0)^2/(4*D*t)) + exp(-(x+x0)^2/(4*D*t)) )\n",
    "end\n",
    "    "
   ]
  },
  {
   "cell_type": "code",
   "execution_count": 13,
   "metadata": {
    "collapsed": false
   },
   "outputs": [
    {
     "data": {
      "text/plain": [
       "behringer (generic function with 1 method)"
      ]
     },
     "execution_count": 13,
     "metadata": {},
     "output_type": "execute_result"
    }
   ],
   "source": [
    "function behringer(nsteps, dt; D =1, x0 = 0.1)\n",
    "    pos = zeros(nsteps)\n",
    "    pos[1] = x0\n",
    "    for i in 2:nsteps\n",
    "        q = pos[i-1] + sqrt(2*D*dt)*randn()\n",
    "        while q < 0.0\n",
    "            q += sqrt(2*D*dt)*randn()\n",
    "        end\n",
    "        pos[i] = q\n",
    "    end\n",
    "    pos\n",
    "end\n",
    "    "
   ]
  },
  {
   "cell_type": "code",
   "execution_count": null,
   "metadata": {
    "collapsed": false
   },
   "outputs": [],
   "source": [
    "##Behringer\n",
    "nsteps = 10000\n",
    "dt = 1.e-4\n",
    "posbehringer = behringer(nsteps, dt, D=5);\n",
    "ncaminantes = 10000\n",
    "for i in 1:ncaminantes\n",
    "    temppos = reflection(nsteps, dt)\n",
    "    posbehringer = hcat(posbehringer, temppos)\n",
    "end"
   ]
  },
  {
   "cell_type": "code",
   "execution_count": 11,
   "metadata": {
    "collapsed": false
   },
   "outputs": [],
   "source": [
    "##Reflection\n",
    "nsteps = 10000\n",
    "dt = 1.e-4\n",
    "pos = reflection(nsteps, dt, D=5);\n",
    "ncaminantes = 10000\n",
    "for i in 1:ncaminantes\n",
    "    temppos = reflection(nsteps, dt)\n",
    "    pos = hcat(pos, temppos)\n",
    "end"
   ]
  },
  {
   "cell_type": "code",
   "execution_count": 7,
   "metadata": {
    "collapsed": false
   },
   "outputs": [],
   "source": [
    "nsteps = 10000\n",
    "dt = 1.e-5\n",
    "posrejupdt = rejectionupdating(nsteps, dt);\n",
    "ncaminantes = 1000\n",
    "for i in 1:ncaminantes\n",
    "    temppos = rejectionupdating(nsteps, dt)\n",
    "    posrejupdt = hcat(posrejupdt, temppos)\n",
    "end"
   ]
  },
  {
   "cell_type": "code",
   "execution_count": 8,
   "metadata": {
    "collapsed": false
   },
   "outputs": [],
   "source": [
    "nsteps = 10000\n",
    "dt = 1.e-5\n",
    "posrejwupdt = rejectionwithoutupdating(nsteps, dt);\n",
    "ncaminantes = 1000\n",
    "for i in 1:ncaminantes\n",
    "    temppos = rejectionwithoutupdating(nsteps, dt)\n",
    "    posrejwupdt = hcat(posrejwupdt, temppos)\n",
    "end"
   ]
  },
  {
   "cell_type": "code",
   "execution_count": 14,
   "metadata": {
    "collapsed": false
   },
   "outputs": [],
   "source": [
    "c = conc(nsteps,dt, D=5)\n",
    "q = 0.0:0.01:16\n",
    "theorconc = [c(i) for i in q];"
   ]
  },
  {
   "cell_type": "code",
   "execution_count": 15,
   "metadata": {
    "collapsed": false
   },
   "outputs": [
    {
     "ename": "LoadError",
     "evalue": "UndefVarError: posrejupdt not defined",
     "output_type": "error",
     "traceback": [
      "UndefVarError: posrejupdt not defined",
      ""
     ]
    }
   ],
   "source": [
    "xfreflection = pos[end,:];\n",
    "xfrejupdt = posrejupdt[end,:];\n",
    "xfrejwupdt = posrejwupdt[end,:];"
   ]
  },
  {
   "cell_type": "code",
   "execution_count": null,
   "metadata": {
    "collapsed": true
   },
   "outputs": [],
   "source": [
    "xfbehringer = posbehringer[end,:]"
   ]
  },
  {
   "cell_type": "code",
   "execution_count": null,
   "metadata": {
    "collapsed": true
   },
   "outputs": [],
   "source": [
    "plt[:hist](xfbehringer, 100,normed = 1, histtype = \"step\", color = \"b\")\n",
    "t = dt*(nsteps-1)\n",
    "plot(q, theorconc, \"r.-\")\n",
    "plt[:xlim](0,10)"
   ]
  },
  {
   "cell_type": "code",
   "execution_count": 16,
   "metadata": {
    "collapsed": false
   },
   "outputs": [
    {
     "data": {
      "image/png": "[encoded data removed]",
      "text/plain": [
       "PyPlot.Figure(PyObject <matplotlib.figure.Figure object at 0x7f61a2716650>)"
      ]
     },
     "metadata": {},
     "output_type": "display_data"
    },
    {
     "data": {
      "text/plain": [
       "(0,10)"
      ]
     },
     "execution_count": 16,
     "metadata": {},
     "output_type": "execute_result"
    }
   ],
   "source": [
    "plt[:hist](xfreflection, 100,normed = 1, histtype = \"step\", color = \"b\")\n",
    "t = dt*(nsteps-1)\n",
    "plot(q, theorconc, \"r.-\")\n",
    "plt[:xlim](0,10)"
   ]
  },
  {
   "cell_type": "code",
   "execution_count": 25,
   "metadata": {
    "collapsed": false
   },
   "outputs": [
    {
     "data": {
      "image/png": "[encoded data removed]",
      "text/plain": [
       "PyPlot.Figure(PyObject <matplotlib.figure.Figure object at 0x7feac6f9aa90>)"
      ]
     },
     "metadata": {},
     "output_type": "display_data"
    },
    {
     "data": {
      "text/plain": [
       "1-element Array{Any,1}:\n",
       " PyObject <matplotlib.lines.Line2D object at 0x7feac6f1d650>"
      ]
     },
     "execution_count": 25,
     "metadata": {},
     "output_type": "execute_result"
    }
   ],
   "source": [
    "t = dt*(nsteps-1)\n",
    "plt[:hist](xfreflection, 100,normed = 1, histtype = \"step\", color = \"b\")\n",
    "plt[:hist](xfrejupdt, 100,normed = 1, histtype = \"step\", color = \"g\")\n",
    "plt[:hist](xfrejupdt, 100,normed = 1, histtype = \"step\", color = \"y\")\n",
    "plot(q, theorconc, \"r.-\")"
   ]
  },
  {
   "cell_type": "code",
   "execution_count": 38,
   "metadata": {
    "collapsed": false
   },
   "outputs": [],
   "source": [
    "using KernelDensity"
   ]
  },
  {
   "cell_type": "code",
   "execution_count": 39,
   "metadata": {
    "collapsed": false
   },
   "outputs": [
    {
     "data": {
      "text/plain": [
       "KernelDensity.UnivariateKDE{FloatRange{Float64}}(-0.15308530772571716:0.0009547975465001831:1.8013852699601576,[4.97838e-5,5.52598e-5,6.13154e-5,6.80067e-5,7.53947e-5,8.35461e-5,9.25332e-5,0.000102435,0.000113337,0.000125332  …  1.75022e-5,1.9392e-5,2.15075e-5,2.38712e-5,2.65078e-5,2.94445e-5,3.27113e-5,3.6341e-5,4.03694e-5,4.4836e-5])"
      ]
     },
     "execution_count": 39,
     "metadata": {},
     "output_type": "execute_result"
    }
   ],
   "source": [
    "kreflection = kde(xfreflection)\n",
    "krejupdt = kde(xfrejupdt)\n",
    "krejwupdt = kde(xfrejwupdt)"
   ]
  },
  {
   "cell_type": "code",
   "execution_count": 42,
   "metadata": {
    "collapsed": false
   },
   "outputs": [
    {
     "data": {
      "image/png": "[encoded data removed]",
      "text/plain": [
       "PyPlot.Figure(PyObject <matplotlib.figure.Figure object at 0x7efed16c8d50>)"
      ]
     },
     "metadata": {},
     "output_type": "display_data"
    },
    {
     "data": {
      "text/plain": [
       "(0,0.2)"
      ]
     },
     "execution_count": 42,
     "metadata": {},
     "output_type": "execute_result"
    }
   ],
   "source": [
    "plot(kreflection.x,kreflection.density,\"b.-\")\n",
    "plot(krejupdt.x,krejupdt.density,\"g.-\")\n",
    "plot(krejwupdt.x,krejwupdt.density,\"y.-\")\n",
    "\n",
    "plot(q, theorconc, \"r.-\")\n",
    "plt[:xlim](0,0.2)"
   ]
  },
  {
   "cell_type": "code",
   "execution_count": null,
   "metadata": {
    "collapsed": true
   },
   "outputs": [],
   "source": []
  }
 ],
 "metadata": {
  "kernelspec": {
   "display_name": "Julia 0.5.0",
   "language": "julia",
   "name": "julia-0.5"
  },
  "language_info": {
   "file_extension": ".jl",
   "mimetype": "application/julia",
   "name": "julia",
   "version": "0.5.0"
  }
 },
 "nbformat": 4,
 "nbformat_minor": 0
}
