{
 "cells": [
  {
   "cell_type": "code",
   "execution_count": 1,
   "metadata": {
    "collapsed": false
   },
   "outputs": [
    {
     "data": {
      "text/plain": [
       "diffusionsine (generic function with 1 method)"
      ]
     },
     "execution_count": 1,
     "metadata": {},
     "output_type": "execute_result"
    }
   ],
   "source": [
    "include(\"../src/diffusionsine.jl\")"
   ]
  },
  {
   "cell_type": "code",
   "execution_count": 6,
   "metadata": {
    "collapsed": false
   },
   "outputs": [],
   "source": [
    "#srand(128)\n",
    "nsteps = 1000\n",
    "nsampling = 1000\n",
    "dt = 1e-4\n",
    "Dx = Dy = 1.\n",
    "lambda = 0.1\n",
    "sigma =1.0\n",
    "nparticles = 1;"
   ]
  },
  {
   "cell_type": "code",
   "execution_count": 7,
   "metadata": {
    "collapsed": false
   },
   "outputs": [
    {
     "name": "stdout",
     "output_type": "stream",
     "text": [
      "Particle 1 done\n"
     ]
    }
   ],
   "source": [
    "positions = diffusionsine(nparticles, nsteps, nsampling, dt, Dx,Dy, lambda, sigma);"
   ]
  },
  {
   "cell_type": "code",
   "execution_count": 9,
   "metadata": {
    "collapsed": false
   },
   "outputs": [],
   "source": [
    "positions = zeros(nsteps,2, nparticles);"
   ]
  },
  {
   "cell_type": "code",
   "execution_count": 103,
   "metadata": {
    "collapsed": false
   },
   "outputs": [
    {
     "name": "stderr",
     "output_type": "stream",
     "text": [
      "WARNING: Method definition shape(Any) in module Main at In[90]:1 overwritten at In[103]:1.\n"
     ]
    },
    {
     "data": {
      "text/plain": [
       "Boundary(s,t,n,0.1)"
      ]
     },
     "execution_count": 103,
     "metadata": {},
     "output_type": "execute_result"
    }
   ],
   "source": [
    "shape(s) = x->sin(s*x)\n",
    "b = Boundary(shape(sigma), lambda)"
   ]
  },
  {
   "cell_type": "code",
   "execution_count": 257,
   "metadata": {
    "collapsed": false
   },
   "outputs": [
    {
     "name": "stdout",
     "output_type": "stream",
     "text": [
      "Particle 1 done\n"
     ]
    },
    {
     "name": "stderr",
     "output_type": "stream",
     "text": [
      "WARNING: Method definition intersection(Any) in module Main at In[252]:20 overwritten at In[257]:20.\n"
     ]
    },
    {
     "data": {
      "text/plain": [
       "2-element Array{Float64,1}:\n",
       " 4.6605  \n",
       " 0.800972"
      ]
     },
     "execution_count": 257,
     "metadata": {},
     "output_type": "execute_result"
    }
   ],
   "source": [
    "n = 1000\n",
    "positions = zeros(n,2, nparticles);\n",
    "srand(128)\n",
    "nsteps = 812\n",
    "j = 1\n",
    "p = Particle([0.,0.89], [0.,0.])\n",
    "positions[1,:,1] = p.r\n",
    " for i in 2:nsteps\n",
    "    p.rprevious = positions[i-1,:,j]\n",
    "    p.r += sqrt(2*dt)*[Dx*randn(), Dy*randn()]\n",
    "    boundarysine(p, b, sigma)\n",
    "    boundary1(p, b)\n",
    "    positions[i,:,j] = p.r \n",
    "end\n",
    "println(\"Particle $j done\")\n",
    "\n",
    "i = 813\n",
    "p.rprevious = positions[i-1,:,j]\n",
    "p.r += sqrt(2*dt)*[Dx*randn(), Dy*randn()]\n",
    "intersection(x) = b.shape(x) - straightlineparticle(p)(x)\n",
    "xint = fzero(intersection,[p.r[1], p.rprevious[1]])\n",
    "yint = b.shape(xint)\n",
    "rint = p.r - [xint, yint]\n",
    "tanvector = dot(rint, b.tangent(xint))*b.tangent(xint)\n",
    "norvector = -dot(rint, b.normal(xint))*b.normal(xint) ##Minus to change the sign of the normal vector\n",
    "p.r = [xint, yint] + tanvector + norvector\n",
    "\n",
    "if !incell(p,b)\n",
    "    p.r = p.rprevious\n",
    "end\n",
    "\n",
    "boundary1(p, b)\n",
    "positions[i,:,j] = p.r \n",
    "\n",
    "i = 814\n",
    "\n",
    "p.rprevious = positions[i-1,:,j]\n",
    "p.r += sqrt(2*dt)*[Dx*randn(), Dy*randn()]\n",
    "boundarysine(p, b, sigma)\n",
    "boundary1(p, b)\n",
    "positions[i,:,j] = p.r \n",
    "\n",
    "#boundarysine(p, b, sigma)\n",
    "#boundary1(p, b)\n",
    "#positions[i,:,j] = p.r "
   ]
  },
  {
   "cell_type": "code",
   "execution_count": 258,
   "metadata": {
    "collapsed": false
   },
   "outputs": [
    {
     "data": {
      "text/plain": [
       "Particle{Float64}([4.6605,0.800972],[4.6985,0.916543])"
      ]
     },
     "execution_count": 258,
     "metadata": {},
     "output_type": "execute_result"
    }
   ],
   "source": [
    "p"
   ]
  },
  {
   "cell_type": "code",
   "execution_count": 259,
   "metadata": {
    "collapsed": false
   },
   "outputs": [
    {
     "data": {
      "text/html": [
       "1.0495906648136821"
      ],
      "text/plain": [
       "1.0495906648136821"
      ]
     },
     "execution_count": 259,
     "metadata": {},
     "output_type": "execute_result"
    }
   ],
   "source": [
    "1.0+lambda*sin(sigma*p.r[1])"
   ]
  },
  {
   "cell_type": "code",
   "execution_count": 4,
   "metadata": {
    "collapsed": true
   },
   "outputs": [],
   "source": [
    "using PyPlot"
   ]
  },
  {
   "cell_type": "code",
   "execution_count": 8,
   "metadata": {
    "collapsed": false
   },
   "outputs": [
    {
     "data": {
      "text/plain": [
       "1-element Array{Any,1}:\n",
       " PyObject <matplotlib.lines.Line2D object at 0x7f0d64832b50>"
      ]
     },
     "execution_count": 8,
     "metadata": {},
     "output_type": "execute_result"
    }
   ],
   "source": [
    "pygui(true)\n",
    "plot(positions[:,:,1][:,1],positions[:,:,1][:,2],\".-\")\n",
    "x = minimum(positions[:,:,1][:,1]):0.01:maximum(positions[:,:,1][:,1])\n",
    "#plot(p.r, \"go\")\n",
    "plot(x, 1.0+lambda*sin(sigma*x))"
   ]
  },
  {
   "cell_type": "code",
   "execution_count": 28,
   "metadata": {
    "collapsed": false
   },
   "outputs": [
    {
     "data": {
      "text/plain": [
       "([0.0,-0.639752,-0.819665,-0.930948,-1.98975,-1.57294,-2.0395,-2.33916,-2.62219,-2.86883  …  6.09119,5.76268,5.4515,6.26805,6.29052,5.98278,6.53843,6.08437,6.3952,6.23242],[0.0,0.732923,0.51086,0.89269,0.776381,0.213609,0.0167583,0.756812,0.145497,0.759956  …  0.314127,0.405808,0.525351,0.960427,0.489512,0.367382,0.582788,0.417574,0.345852,0.847158])"
      ]
     },
     "execution_count": 28,
     "metadata": {},
     "output_type": "execute_result"
    }
   ],
   "source": [
    "positions[:,:,1][:,1],positions[:,:,1][:,2]"
   ]
  },
  {
   "cell_type": "code",
   "execution_count": 13,
   "metadata": {
    "collapsed": false
   },
   "outputs": [
    {
     "data": {
      "text/plain": [
       "1-element Array{Any,1}:\n",
       " PyObject <matplotlib.lines.Line2D object at 0x7ff8bd98a550>"
      ]
     },
     "execution_count": 13,
     "metadata": {},
     "output_type": "execute_result"
    }
   ],
   "source": [
    "#plot([0.180986,0.182268],[1.39155,1.3873], \"o-\")\n",
    "pygui(true)\n",
    "plot([-1.41975,-1.40953],[0.900163,0.900082],\"go-\")\n",
    "x = -5:0.0001:5\n",
    "plot(x, 1.0+lambda*sin(sigma*x))"
   ]
  },
  {
   "cell_type": "code",
   "execution_count": 31,
   "metadata": {
    "collapsed": false
   },
   "outputs": [
    {
     "data": {
      "text/plain": [
       "1000-element Array{Float64,1}:\n",
       "  0.0     \n",
       " -0.127253\n",
       " -0.375259\n",
       " -0.245432\n",
       " -0.415052\n",
       " -0.228413\n",
       " -0.433109\n",
       " -0.443209\n",
       " -0.411467\n",
       " -0.536935\n",
       " -0.476811\n",
       " -0.516892\n",
       " -0.714509\n",
       "  ⋮       \n",
       " -3.38142 \n",
       " -3.51367 \n",
       " -3.58562 \n",
       " -3.81245 \n",
       " -3.7577  \n",
       " -3.68155 \n",
       " -3.71623 \n",
       " -3.98388 \n",
       " -3.78552 \n",
       " -3.90173 \n",
       " -3.98215 \n",
       " -4.33909 "
      ]
     },
     "execution_count": 31,
     "metadata": {},
     "output_type": "execute_result"
    }
   ],
   "source": [
    "xarray = positions[:,1,:]\n",
    "xsquare = [mean(xarray[i,:].^2) for i in 1:length(xarray[:,1])]\n",
    "#xmean =  [mean(xarray[i,:]) for i in 1:length(xarray[:,1])]\n",
    "#crec = xsquare - xmean.^2\n",
    "t = 0.0:nsampling*dt:dt*nsampling*(nsteps-1)\n",
    "plot(collect(t),xsquare./(2*Dx*t))"
   ]
  },
  {
   "cell_type": "code",
   "execution_count": 32,
   "metadata": {
    "collapsed": false
   },
   "outputs": [
    {
     "data": {
      "text/plain": [
       "1-element Array{Any,1}:\n",
       " PyObject <matplotlib.lines.Line2D object at 0x7f901fff5650>"
      ]
     },
     "execution_count": 32,
     "metadata": {},
     "output_type": "execute_result"
    }
   ],
   "source": [
    "plot(xmean)"
   ]
  },
  {
   "cell_type": "code",
   "execution_count": 44,
   "metadata": {
    "collapsed": false
   },
   "outputs": [
    {
     "data": {
      "text/plain": [
       "0.0:0.1:99.9"
      ]
     },
     "execution_count": 44,
     "metadata": {},
     "output_type": "execute_result"
    }
   ],
   "source": []
  },
  {
   "cell_type": "code",
   "execution_count": 9,
   "metadata": {
    "collapsed": false
   },
   "outputs": [
    {
     "data": {
      "text/plain": [
       "0.0:0.01:99.99000000000001"
      ]
     },
     "execution_count": 9,
     "metadata": {},
     "output_type": "execute_result"
    }
   ],
   "source": [
    "t = 0.0:nsampling*dt:dt*nsampling*(nsteps-1)"
   ]
  },
  {
   "cell_type": "code",
   "execution_count": 46,
   "metadata": {
    "collapsed": false
   },
   "outputs": [
    {
     "data": {
      "text/plain": [
       "1000-element Array{Float64,1}:\n",
       "  0.0\n",
       "  0.1\n",
       "  0.2\n",
       "  0.3\n",
       "  0.4\n",
       "  0.5\n",
       "  0.6\n",
       "  0.7\n",
       "  0.8\n",
       "  0.9\n",
       "  1.0\n",
       "  1.1\n",
       "  1.2\n",
       "  ⋮  \n",
       " 98.8\n",
       " 98.9\n",
       " 99.0\n",
       " 99.1\n",
       " 99.2\n",
       " 99.3\n",
       " 99.4\n",
       " 99.5\n",
       " 99.6\n",
       " 99.7\n",
       " 99.8\n",
       " 99.9"
      ]
     },
     "execution_count": 46,
     "metadata": {},
     "output_type": "execute_result"
    }
   ],
   "source": [
    "collect(t)"
   ]
  },
  {
   "cell_type": "code",
   "execution_count": 48,
   "metadata": {
    "collapsed": false
   },
   "outputs": [
    {
     "data": {
      "text/plain": [
       "1-element Array{Any,1}:\n",
       " PyObject <matplotlib.lines.Line2D object at 0x7f901f207050>"
      ]
     },
     "execution_count": 48,
     "metadata": {},
     "output_type": "execute_result"
    }
   ],
   "source": [
    "plot(collect(t),crec./(2*Dx*t))"
   ]
  },
  {
   "cell_type": "code",
   "execution_count": 17,
   "metadata": {
    "collapsed": false
   },
   "outputs": [
    {
     "data": {
      "text/plain": [
       "Particle{Float64}([4.53653,1.1017],[4.55757,1.09997])"
      ]
     },
     "execution_count": 17,
     "metadata": {},
     "output_type": "execute_result"
    }
   ],
   "source": [
    "p = Particle([4.53653,1.1017],[4.55757,1.09997])"
   ]
  },
  {
   "cell_type": "code",
   "execution_count": 18,
   "metadata": {
    "collapsed": false
   },
   "outputs": [
    {
     "name": "stderr",
     "output_type": "stream",
     "text": [
      "WARNING: Method definition shape(Any) in module Main at In[9]:1 overwritten at In[18]:1.\n"
     ]
    },
    {
     "data": {
      "text/plain": [
       "Boundary(s,t,n,0.1)"
      ]
     },
     "execution_count": 18,
     "metadata": {},
     "output_type": "execute_result"
    }
   ],
   "source": [
    "shape(s) = x->sin(s*x)\n",
    "b = Boundary(shape(sigma), lambda)"
   ]
  },
  {
   "cell_type": "code",
   "execution_count": 28,
   "metadata": {
    "collapsed": false
   },
   "outputs": [
    {
     "name": "stderr",
     "output_type": "stream",
     "text": [
      "WARNING: Method definition intersection(Any) in module Main at In[27]:1 overwritten at In[28]:1.\n"
     ]
    },
    {
     "data": {
      "text/plain": [
       "2-element Array{Float64,1}:\n",
       " 4.52522\n",
       " 1.09373"
      ]
     },
     "execution_count": 28,
     "metadata": {},
     "output_type": "execute_result"
    }
   ],
   "source": [
    "intersection(x) = b.shape(x) - straightlineparticle(p)(x)\n",
    "xint = fzero(intersection,p.r[1])\n",
    "yint = b.shape(xint)\n",
    " tanvector = dot(rint, b.tangent(xint))*b.tangent(xint)\n",
    "    norvector = -dot(rint, b.normal(xint))*b.normal(xint) ##Minus to change the sign of the normal vector\n",
    "    p.rprevious = [xint, yint]\n",
    "    p.r = [xint, yint] + tanvector + norvector\n"
   ]
  },
  {
   "cell_type": "code",
   "execution_count": 13,
   "metadata": {
    "collapsed": false
   },
   "outputs": [
    {
     "data": {
      "text/plain": [
       "2-element Array{Float64,1}:\n",
       " 4.53653\n",
       " 1.1017 "
      ]
     },
     "execution_count": 13,
     "metadata": {},
     "output_type": "execute_result"
    }
   ],
   "source": [
    "reflectingboundaries!(p,b)"
   ]
  },
  {
   "cell_type": "code",
   "execution_count": 29,
   "metadata": {
    "collapsed": false
   },
   "outputs": [
    {
     "data": {
      "text/plain": [
       "Particle{Float64}([4.52522,1.09373],[4.54545,1.09951])"
      ]
     },
     "execution_count": 29,
     "metadata": {},
     "output_type": "execute_result"
    }
   ],
   "source": [
    "p"
   ]
  },
  {
   "cell_type": "code",
   "execution_count": 31,
   "metadata": {
    "collapsed": false
   },
   "outputs": [
    {
     "data": {
      "text/plain": [
       "1-element Array{Any,1}:\n",
       " PyObject <matplotlib.lines.Line2D object at 0x7f6b48f1d110>"
      ]
     },
     "execution_count": 31,
     "metadata": {},
     "output_type": "execute_result"
    }
   ],
   "source": [
    "#plot([0.180986,0.182268],[1.39155,1.3873], \"o-\")\n",
    "pygui(true)\n",
    "plot([4.53653,4.55757],[1.1017,1.09997],\"go-\")\n",
    "plot([4.53647, 4.5575],[1.09917,1.09998], \"bo-\")\n",
    "plot([4.52522,4.54545],[1.09373,1.09951], \"ro-\")\n",
    "#plot([4.53653,4.5575],[1.1017,1.09998],\"ro-\")\n",
    "x = -5:0.0001:5\n",
    "plot(x, 1.0+lambda*sin(sigma*x) )"
   ]
  },
  {
   "cell_type": "code",
   "execution_count": null,
   "metadata": {
    "collapsed": true
   },
   "outputs": [],
   "source": []
  }
 ],
 "metadata": {
  "kernelspec": {
   "display_name": "Julia 0.5.0",
   "language": "julia",
   "name": "julia-0.5"
  },
  "language_info": {
   "file_extension": ".jl",
   "mimetype": "application/julia",
   "name": "julia",
   "version": "0.5.0"
  }
 },
 "nbformat": 4,
 "nbformat_minor": 0
}
